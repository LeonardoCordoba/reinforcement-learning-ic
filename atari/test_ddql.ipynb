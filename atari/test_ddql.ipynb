{
 "cells": [
  {
   "cell_type": "code",
   "execution_count": 1,
   "metadata": {},
   "outputs": [
    {
     "name": "stderr",
     "output_type": "stream",
     "text": [
      "Using TensorFlow backend.\n"
     ]
    }
   ],
   "source": [
    "from keras.optimizers import RMSprop\n",
    "import keras\n",
    "import numpy as np\n",
    "from model import get_predefined_model\n",
    "from ddql import DDQNNGame\n",
    "from preprocessing import scale_color, wrap_deepmind\n",
    "import gym\n",
    "import random\n",
    "import matplotlib.pyplot as plt\n",
    "import os\n",
    "import tensorflow as tf\n",
    "#!pip install gym[atari]"
   ]
  },
  {
   "cell_type": "code",
   "execution_count": 2,
   "metadata": {},
   "outputs": [],
   "source": [
    "# %% Set env\n",
    "WRAPPER = \"DM\" \n",
    "env = gym.make('SpaceInvaders-v0')\n",
    "path = os.getcwd()\n",
    "\n",
    "if WRAPPER == \"DM\":\n",
    "    env = wrap_deepmind(env, frame_stack=True)\n",
    "    INPUT_SHAPE = (84, 84, 4)\n",
    "else:\n",
    "    from gym.wrappers import AtariPreprocessing\n",
    "    env = AtariPreprocessing(env)\n",
    "    INPUT_SHAPE = (84, 84, 1)\n",
    "\n",
    "# requirements:\n",
    "# Open AI Gym (pip install gym[all])\n",
    "# OpenCV\n",
    "# JSAnimation - Only for Jupyter Display\n",
    "# ImageIO "
   ]
  },
  {
   "cell_type": "code",
   "execution_count": 3,
   "metadata": {},
   "outputs": [
    {
     "name": "stdout",
     "output_type": "stream",
     "text": [
      "WARNING:tensorflow:From /home/condauser/miniconda3/lib/python3.7/site-packages/tensorflow/python/framework/op_def_library.py:263: colocate_with (from tensorflow.python.framework.ops) is deprecated and will be removed in a future version.\n",
      "Instructions for updating:\n",
      "Colocations handled automatically by placer.\n",
      "6\n",
      "added conv\n",
      "added conv\n",
      "added maxpool\n",
      "added flatten\n",
      "added dense\n",
      "added dense\n",
      "_________________________________________________________________\n",
      "Layer (type)                 Output Shape              Param #   \n",
      "=================================================================\n",
      "conv2d_1 (Conv2D)            (None, 41, 41, 16)        1040      \n",
      "_________________________________________________________________\n",
      "conv2d_2 (Conv2D)            (None, 39, 39, 32)        4640      \n",
      "_________________________________________________________________\n",
      "max_pooling2d_1 (MaxPooling2 (None, 19, 19, 32)        0         \n",
      "_________________________________________________________________\n",
      "flatten_1 (Flatten)          (None, 11552)             0         \n",
      "_________________________________________________________________\n",
      "dense_1 (Dense)              (None, 128)               1478784   \n",
      "=================================================================\n",
      "Total params: 1,484,464\n",
      "Trainable params: 1,484,464\n",
      "Non-trainable params: 0\n",
      "_________________________________________________________________\n"
     ]
    }
   ],
   "source": [
    "# %% Instantiate model\n",
    "# little_a\n",
    "\n",
    "cnn = get_predefined_model(\"little_a\", INPUT_SHAPE)"
   ]
  },
  {
   "cell_type": "code",
   "execution_count": 11,
   "metadata": {},
   "outputs": [],
   "source": [
    "# %% Setup\n",
    "\n",
    "# /home/usuario/Documentos/github/reinforcement-learning-ic/\n",
    "# sess = tf.Session(config=tf.ConfigProto(log_device_placement=True))\n",
    "path = os.getcwd()\n",
    "paths = {\"model\":path+\"/model/model.h5\"}\n",
    "#assert os.path.isdir(path+\"/atari/model/\"), \"Corregir el path del modelo\" "
   ]
  },
  {
   "cell_type": "code",
   "execution_count": 12,
   "metadata": {},
   "outputs": [],
   "source": [
    "exploration_max = 1.0\n",
    "exploration_min = 0.1\n",
    "exploration_steps = 850000\n",
    "exploration_decay = (exploration_max-exploration_min)/exploration_steps\n",
    "\n",
    "\n",
    "params = {\"gamma\":0.99, \"memory_size\": 900000, \"batch_size\": 16,\n",
    "            \"training_frequency\": 4, \"target_network_update_frequency\": 40000,\n",
    "            \"model_persistence_update_frequency\": 10000,\n",
    "            \"replay_start_size\": 500 ,\"exploration_test\": 0.02,\n",
    "            \"exploration_max\": exploration_max, \n",
    "            \"exploration_min\": exploration_min,\n",
    "            \"exploration_steps\": exploration_steps, \n",
    "            \"exploration_decay\": exploration_decay}\n",
    "\n",
    "# Para poder estudiar si se estaba entrenando tuve que cambiar dos parametros\n",
    "# batch_size lo baje de 32 a 16\n",
    "# replay_start_size lo baje de 50000 a 500\n",
    "# Ademas cambio y agregue muchos mas episodios y corridas\n",
    "\n",
    "train = True\n",
    "\n",
    "game_model = DDQNNGame(cnn, env, paths, params, train)\n",
    "\n",
    "# Agregue los logs a TensorBoard pero no me funciono\n",
    "#keras.callbacks.TensorBoard(log_dir='./logs', histogram_freq=0, batch_size=32, write_graph=True)\n",
    "\n",
    "env.reset()\n",
    "frameshistory = []\n",
    "done = False\n",
    "total_step_limit = 100000\n",
    "total_run_limit = 200\n",
    "render = False #True\n",
    "clip = True\n",
    "\n",
    "run = 0\n",
    "total_step = 0"
   ]
  },
  {
   "cell_type": "code",
   "execution_count": 14,
   "metadata": {},
   "outputs": [
    {
     "name": "stdout",
     "output_type": "stream",
     "text": [
      "Partida número:  37\n",
      "([-9.708551, -49.99063, 285.0838], [-8.4394455, -46.736122, 201.50139])\n",
      "Partida número:  40\n",
      "Pesos modelo base:  [-9.655106, -50.0331, 290.31064]\n",
      "Pesos modelo base:  [-8.4394455, -46.736122, 201.50139]\n",
      "0.0\n",
      "Partida número:  50\n",
      "Pesos modelo base:  [-9.883835, -50.668262, 311.74274]\n",
      "Pesos modelo base:  [-8.4394455, -46.736122, 201.50139]\n",
      "1.0\n",
      "Partida número:  60\n",
      "Pesos modelo base:  [-10.154356, -51.169815, 331.70572]\n",
      "Pesos modelo base:  [-8.4394455, -46.736122, 201.50139]\n",
      "4.0\n",
      "Partida número:  70\n",
      "Pesos modelo base:  [-10.190048, -52.26076, 356.06393]\n",
      "Pesos modelo base:  [-8.4394455, -46.736122, 201.50139]\n",
      "9.0\n",
      "Partida número:  80\n",
      "Pesos modelo base:  [-10.460072, -52.764046, 380.57678]\n",
      "Pesos modelo base:  [-8.4394455, -46.736122, 201.50139]\n",
      "9.0\n",
      "Partida número:  90\n",
      "Pesos modelo base:  [-10.543872, -53.592365, 396.06177]\n",
      "Pesos modelo base:  [-8.4394455, -46.736122, 201.50139]\n",
      "2.0\n",
      "Partida número:  100\n",
      "Pesos modelo base:  [-10.53868, -54.577896, 418.5523]\n",
      "Pesos modelo base:  [-8.4394455, -46.736122, 201.50139]\n",
      "1.0\n",
      "Partida número:  110\n",
      "Pesos modelo base:  [-10.576292, -54.767723, 433.46347]\n",
      "Pesos modelo base:  [-8.4394455, -46.736122, 201.50139]\n",
      "1.0\n",
      "Partida número:  120\n",
      "Pesos modelo base:  [-10.721622, -55.38938, 455.70758]\n",
      "Pesos modelo base:  [-8.4394455, -46.736122, 201.50139]\n",
      "2.0\n",
      "Partida número:  130\n",
      "Pesos modelo base:  [-10.70146, -56.19326, 469.0766]\n",
      "Pesos modelo base:  [-8.4394455, -46.736122, 201.50139]\n",
      "0.0\n",
      "Partida número:  140\n",
      "Pesos modelo base:  [-11.04631, -57.499226, 508.42572]\n",
      "Pesos modelo base:  [-8.4394455, -46.736122, 201.50139]\n",
      "3.0\n",
      "Partida número:  150\n",
      "Pesos modelo base:  [-11.142641, -58.33647, 532.25653]\n",
      "Pesos modelo base:  [-8.4394455, -46.736122, 201.50139]\n",
      "5.0\n",
      "Partida número:  160\n",
      "Pesos modelo base:  [-11.211891, -58.644394, 549.35657]\n",
      "Pesos modelo base:  [-8.4394455, -46.736122, 201.50139]\n",
      "0.0\n",
      "Partida número:  170\n",
      "Pesos modelo base:  [-11.311479, -59.680145, 565.18134]\n",
      "Pesos modelo base:  [-8.4394455, -46.736122, 201.50139]\n",
      "2.0\n",
      "{\"metric\": \"epsilon\", \"value\": 0.9581764705883224}\n",
      "{\"metric\": \"total_step\", \"value\": 40000}\n",
      "Partida número:  180\n",
      "Pesos modelo base:  [-11.518991, -60.769146, 576.6577]\n",
      "Pesos modelo base:  [-11.530195, -60.935722, 572.7338]\n",
      "3.0\n",
      "Partida número:  190\n",
      "Pesos modelo base:  [-11.701456, -60.8366, 597.82275]\n",
      "Pesos modelo base:  [-11.530195, -60.935722, 572.7338]\n",
      "10.0\n",
      "Partida número:  200\n",
      "Pesos modelo base:  [-11.883938, -61.381924, 612.0127]\n",
      "Pesos modelo base:  [-11.530195, -60.935722, 572.7338]\n",
      "2.0\n",
      "Reached total run limit of: 200\n"
     ]
    }
   ],
   "source": [
    "# %% Main loop\n",
    "exit = 0\n",
    "print(\"Partida número: \", run)\n",
    "print(game_model._weigths_snapshot())\n",
    "while exit == 0:\n",
    "    \n",
    "    run += 1\n",
    "    current_state = env.reset()\n",
    "    if WRAPPER != \"DM\":\n",
    "        current_state = np.reshape(current_state, (84, 84, 1))\n",
    "\n",
    "    step = 0\n",
    "    score = 0\n",
    "    while exit == 0:\n",
    "        if total_step >= total_step_limit:\n",
    "            print (\"Reached total step limit of: \" + str(total_step_limit))\n",
    "            # No sería mejor un break?\n",
    "            exit = 1\n",
    "        total_step += 1\n",
    "        step += 1\n",
    "\n",
    "        if render:\n",
    "            env.render()\n",
    "\n",
    "        action = game_model.move(current_state)\n",
    "        next_state, reward, terminal, info = env.step(action)\n",
    "        if WRAPPER != \"DM\":\n",
    "            next_state = np.reshape(next_state, (84, 84, 1))\n",
    "\n",
    "        # next_state = scale_color(next_state)\n",
    "\n",
    "        if clip:\n",
    "            reward = np.sign(reward)\n",
    "        score += reward\n",
    "        \n",
    "        game_model.remember(current_state, action, reward, next_state, terminal)\n",
    "        current_state = next_state\n",
    "\n",
    "        game_model.step_update(total_step)\n",
    "\n",
    "        if terminal:\n",
    "            # game_model.save_run(score, step, run)\n",
    "            if run % 10 == 0:\n",
    "                weights_snap = game_model._weigths_snapshot()\n",
    "                print(\"Partida número: \", run)\n",
    "                print(\"Pesos modelo base: \", weights_snap[0])\n",
    "                print(\"Pesos modelo base: \", weights_snap[1])\n",
    "                print(score)\n",
    "            game_model._save_model()\n",
    "            break\n",
    "           \n",
    "    # Corto por episodios\n",
    "    if total_run_limit is not None and run >= total_run_limit:\n",
    "        print (\"Reached total run limit of: \" + str(total_run_limit))\n",
    "        exit = 1\n",
    "        "
   ]
  },
  {
   "cell_type": "code",
   "execution_count": 22,
   "metadata": {},
   "outputs": [
    {
     "name": "stdout",
     "output_type": "stream",
     "text": [
      "The tensorboard module is not an IPython extension.\n"
     ]
    }
   ],
   "source": [
    "%load_ext tensorboard"
   ]
  },
  {
   "cell_type": "code",
   "execution_count": 21,
   "metadata": {},
   "outputs": [
    {
     "name": "stderr",
     "output_type": "stream",
     "text": [
      "UsageError: Line magic function `%tensorboard` not found.\n"
     ]
    }
   ],
   "source": [
    "%tensorboard --logdir logs"
   ]
  },
  {
   "cell_type": "code",
   "execution_count": 28,
   "metadata": {},
   "outputs": [
    {
     "data": {
      "text/plain": [
       "{'name': 'sequential_1',\n",
       " 'trainable': True,\n",
       " '_is_compiled': False,\n",
       " '_expects_training_arg': False,\n",
       " '_initial_weights': None,\n",
       " 'supports_masking': False,\n",
       " 'optimizer': <keras.optimizers.RMSprop at 0x7f23c6129400>,\n",
       " '_updates': [],\n",
       " '_losses': [],\n",
       " '_per_input_losses': {},\n",
       " '_per_input_updates': {},\n",
       " '_layers': [<keras.engine.input_layer.InputLayer at 0x7f23c5b35320>,\n",
       "  <keras.layers.convolutional.Conv2D at 0x7f23c6118198>,\n",
       "  <keras.layers.convolutional.Conv2D at 0x7f23c5b35400>,\n",
       "  <keras.layers.pooling.MaxPooling2D at 0x7f23c5293630>,\n",
       "  <keras.layers.core.Flatten at 0x7f23c5293748>,\n",
       "  <keras.layers.core.Dense at 0x7f23c52b9978>],\n",
       " '_outbound_nodes': [],\n",
       " '_inbound_nodes': [<keras.engine.base_layer.Node at 0x7f23c60f5da0>],\n",
       " '_is_graph_network': True,\n",
       " '_uses_inputs_arg': True,\n",
       " 'outputs': [<tf.Tensor 'dense_1/Relu:0' shape=(?, 128) dtype=float32>],\n",
       " 'inputs': [<tf.Tensor 'conv2d_1_input:0' shape=(?, 84, 84, 4) dtype=float32>],\n",
       " '_built': True,\n",
       " '_build_input_shape': None,\n",
       " '_compute_previous_mask': True,\n",
       " '_input_layers': [<keras.engine.input_layer.InputLayer at 0x7f23c5b35320>],\n",
       " '_output_layers': [<keras.layers.core.Dense at 0x7f23c52b9978>],\n",
       " '_input_coordinates': [(<keras.engine.input_layer.InputLayer at 0x7f23c5b35320>,\n",
       "   0,\n",
       "   0)],\n",
       " '_output_coordinates': [(<keras.layers.core.Dense at 0x7f23c52b9978>, 0, 0)],\n",
       " '_output_mask_cache': {'139791617446968_94139514642672': None},\n",
       " '_output_tensor_cache': {},\n",
       " '_output_shape_cache': {},\n",
       " '_network_nodes': {'conv2d_1_ib-0',\n",
       "  'conv2d_1_input_ib-0',\n",
       "  'conv2d_2_ib-0',\n",
       "  'dense_1_ib-0',\n",
       "  'flatten_1_ib-0',\n",
       "  'max_pooling2d_1_ib-0'},\n",
       " '_nodes_by_depth': {0: [<keras.engine.base_layer.Node at 0x7f23c52716d8>],\n",
       "  1: [<keras.engine.base_layer.Node at 0x7f23c524fe10>],\n",
       "  2: [<keras.engine.base_layer.Node at 0x7f23c52b9eb8>],\n",
       "  3: [<keras.engine.base_layer.Node at 0x7f23c5293f60>],\n",
       "  4: [<keras.engine.base_layer.Node at 0x7f23c52f0eb8>],\n",
       "  5: [<keras.engine.base_layer.Node at 0x7f23c5b35358>]},\n",
       " '_layers_by_depth': {0: [<keras.layers.core.Dense at 0x7f23c52b9978>],\n",
       "  1: [<keras.layers.core.Flatten at 0x7f23c5293748>],\n",
       "  2: [<keras.layers.pooling.MaxPooling2D at 0x7f23c5293630>],\n",
       "  3: [<keras.layers.convolutional.Conv2D at 0x7f23c5b35400>],\n",
       "  4: [<keras.layers.convolutional.Conv2D at 0x7f23c6118198>],\n",
       "  5: [<keras.engine.input_layer.InputLayer at 0x7f23c5b35320>]},\n",
       " 'input_names': ['conv2d_1_input'],\n",
       " 'output_names': ['dense_1'],\n",
       " '_feed_input_names': ['conv2d_1_input'],\n",
       " '_feed_inputs': [<tf.Tensor 'conv2d_1_input:0' shape=(?, 84, 84, 4) dtype=float32>],\n",
       " '_feed_input_shapes': [(None, 84, 84, 4)],\n",
       " 'loss': 'mean_squared_error',\n",
       " 'metrics': ['accuracy'],\n",
       " 'loss_weights': None,\n",
       " 'sample_weight_mode': None,\n",
       " 'weighted_metrics': None,\n",
       " 'loss_functions': [<function keras.losses.mean_squared_error(y_true, y_pred)>],\n",
       " '_feed_outputs': [<tf.Tensor 'dense_1/Relu:0' shape=(?, 128) dtype=float32>],\n",
       " '_feed_output_names': ['dense_1'],\n",
       " '_feed_output_shapes': [(None, 128)],\n",
       " '_feed_loss_fns': [<function keras.losses.mean_squared_error(y_true, y_pred)>],\n",
       " 'targets': [<tf.Tensor 'dense_1_target:0' shape=(?, ?) dtype=float32>],\n",
       " '_feed_targets': [<tf.Tensor 'dense_1_target:0' shape=(?, ?) dtype=float32>],\n",
       " 'sample_weight_modes': [None],\n",
       " '_feed_sample_weight_modes': [None],\n",
       " 'metrics_names': ['loss', 'acc'],\n",
       " 'metrics_tensors': [<tf.Tensor 'metrics/acc/Mean:0' shape=() dtype=float32>],\n",
       " 'metrics_updates': [],\n",
       " 'stateful_metric_names': [],\n",
       " 'stateful_metric_functions': [],\n",
       " 'total_loss': <tf.Tensor 'loss/mul:0' shape=() dtype=float32>,\n",
       " 'sample_weights': [<tf.Tensor 'dense_1_sample_weights:0' shape=(?,) dtype=float32>],\n",
       " '_feed_sample_weights': [<tf.Tensor 'dense_1_sample_weights:0' shape=(?,) dtype=float32>],\n",
       " '_function_kwargs': {},\n",
       " 'train_function': None,\n",
       " 'test_function': None,\n",
       " 'predict_function': None,\n",
       " '_collected_trainable_weights': [<tf.Variable 'conv2d_1/kernel:0' shape=(4, 4, 4, 16) dtype=float32_ref>,\n",
       "  <tf.Variable 'conv2d_1/bias:0' shape=(16,) dtype=float32_ref>,\n",
       "  <tf.Variable 'conv2d_2/kernel:0' shape=(3, 3, 16, 32) dtype=float32_ref>,\n",
       "  <tf.Variable 'conv2d_2/bias:0' shape=(32,) dtype=float32_ref>,\n",
       "  <tf.Variable 'dense_1/kernel:0' shape=(11552, 128) dtype=float32_ref>,\n",
       "  <tf.Variable 'dense_1/bias:0' shape=(128,) dtype=float32_ref>]}"
      ]
     },
     "execution_count": 28,
     "metadata": {},
     "output_type": "execute_result"
    }
   ],
   "source": [
    "game_model.base_model.__dict__"
   ]
  },
  {
   "cell_type": "code",
   "execution_count": 40,
   "metadata": {},
   "outputs": [
    {
     "data": {
      "text/plain": [
       "{'_op': <tf.Operation 'conv2d_2/kernel/read' type=Identity>,\n",
       " '_value_index': 0,\n",
       " '_dtype': tf.float32,\n",
       " '_tf_output': <tensorflow.python.pywrap_tensorflow_internal.TF_Output; proxy of <Swig Object of type 'TF_Output *' at 0x7f23c529e660> >,\n",
       " '_shape_val': TensorShape([Dimension(3), Dimension(3), Dimension(16), Dimension(32)]),\n",
       " '_consumers': [],\n",
       " '_id': 45}"
      ]
     },
     "execution_count": 40,
     "metadata": {},
     "output_type": "execute_result"
    }
   ],
   "source": [
    "game_model.base_model.layers[1]._trainable_weights[0]._snapshot.__dict__"
   ]
  },
  {
   "cell_type": "code",
   "execution_count": null,
   "metadata": {},
   "outputs": [],
   "source": [
    "# https://stackoverflow.com/questions/43715047/keras-2-x-get-weights-of-layer\n",
    "import tensorflow as tf\n",
    "from tensorflow.contrib.keras import layers\n",
    "\n",
    "input_x = tf.placeholder(tf.float32, [None, 10], name='input_x')    \n",
    "dense1 = layers.Dense(10, activation='relu')\n",
    "y = dense1(input_x)\n",
    "\n",
    "weights = dense1.get_weights()"
   ]
  },
  {
   "cell_type": "code",
   "execution_count": 60,
   "metadata": {},
   "outputs": [
    {
     "name": "stdout",
     "output_type": "stream",
     "text": [
      "{'name': 'conv2d_1', 'trainable': True, 'batch_input_shape': (None, 84, 84, 4), 'dtype': 'float32', 'filters': 16, 'kernel_size': (4, 4), 'strides': (2, 2), 'padding': 'valid', 'data_format': 'channels_last', 'dilation_rate': (1, 1), 'activation': 'relu', 'use_bias': True, 'kernel_initializer': {'class_name': 'VarianceScaling', 'config': {'scale': 1.0, 'mode': 'fan_avg', 'distribution': 'uniform', 'seed': None}}, 'bias_initializer': {'class_name': 'Zeros', 'config': {}}, 'kernel_regularizer': None, 'bias_regularizer': None, 'activity_regularizer': None, 'kernel_constraint': None, 'bias_constraint': None}\n",
      "{'name': 'conv2d_2', 'trainable': True, 'batch_input_shape': (None, 84, 84, 4), 'dtype': 'float32', 'filters': 32, 'kernel_size': (3, 3), 'strides': (1, 1), 'padding': 'valid', 'data_format': 'channels_last', 'dilation_rate': (1, 1), 'activation': 'relu', 'use_bias': True, 'kernel_initializer': {'class_name': 'VarianceScaling', 'config': {'scale': 1.0, 'mode': 'fan_avg', 'distribution': 'uniform', 'seed': None}}, 'bias_initializer': {'class_name': 'Zeros', 'config': {}}, 'kernel_regularizer': None, 'bias_regularizer': None, 'activity_regularizer': None, 'kernel_constraint': None, 'bias_constraint': None}\n",
      "{'name': 'max_pooling2d_1', 'trainable': True, 'pool_size': (2, 2), 'padding': 'valid', 'strides': (2, 2), 'data_format': 'channels_last'}\n",
      "{'name': 'flatten_1', 'trainable': True, 'data_format': 'channels_last'}\n",
      "{'name': 'dense_1', 'trainable': True, 'units': 128, 'activation': 'relu', 'use_bias': True, 'kernel_initializer': {'class_name': 'VarianceScaling', 'config': {'scale': 1.0, 'mode': 'fan_avg', 'distribution': 'uniform', 'seed': None}}, 'bias_initializer': {'class_name': 'Zeros', 'config': {}}, 'kernel_regularizer': None, 'bias_regularizer': None, 'activity_regularizer': None, 'kernel_constraint': None, 'bias_constraint': None}\n"
     ]
    }
   ],
   "source": [
    "# resp 2 https://stackoverflow.com/questions/43715047/keras-2-x-get-weights-of-layer\n",
    "weigths = [] \n",
    "# lista de listas que contiene capa por capa y en cada capa contiene en el primer elemento los pesos y los bias\n",
    "for layer in game_model.base_model.layers: \n",
    "    print(layer.get_config())\n",
    "    weigths.append(layer.get_weights())\n",
    "    weigths[4][0].sum()\n",
    "    #print(layer.get_config(), layer.get_weights())"
   ]
  },
  {
   "cell_type": "code",
   "execution_count": 65,
   "metadata": {},
   "outputs": [
    {
     "data": {
      "text/plain": [
       "[]"
      ]
     },
     "execution_count": 65,
     "metadata": {},
     "output_type": "execute_result"
    }
   ],
   "source": [
    "weigths[3]"
   ]
  },
  {
   "cell_type": "code",
   "execution_count": 62,
   "metadata": {},
   "outputs": [
    {
     "ename": "IndexError",
     "evalue": "list index out of range",
     "output_type": "error",
     "traceback": [
      "\u001b[0;31m---------------------------------------------------------------------------\u001b[0m",
      "\u001b[0;31mIndexError\u001b[0m                                Traceback (most recent call last)",
      "\u001b[0;32m<ipython-input-62-f18d67173388>\u001b[0m in \u001b[0;36m<module>\u001b[0;34m\u001b[0m\n\u001b[0;32m----> 1\u001b[0;31m \u001b[0mweigths\u001b[0m\u001b[0;34m[\u001b[0m\u001b[0;36m3\u001b[0m\u001b[0;34m]\u001b[0m\u001b[0;34m[\u001b[0m\u001b[0;36m0\u001b[0m\u001b[0;34m]\u001b[0m\u001b[0;34m\u001b[0m\u001b[0;34m\u001b[0m\u001b[0m\n\u001b[0m",
      "\u001b[0;31mIndexError\u001b[0m: list index out of range"
     ]
    }
   ],
   "source": [
    "weigths[4][0].sum()"
   ]
  }
 ],
 "metadata": {
  "kernelspec": {
   "display_name": "Python 3",
   "language": "python",
   "name": "python3"
  },
  "language_info": {
   "codemirror_mode": {
    "name": "ipython",
    "version": 3
   },
   "file_extension": ".py",
   "mimetype": "text/x-python",
   "name": "python",
   "nbconvert_exporter": "python",
   "pygments_lexer": "ipython3",
   "version": "3.7.3"
  }
 },
 "nbformat": 4,
 "nbformat_minor": 2
}
